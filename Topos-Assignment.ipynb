{
 "cells": [
  {
   "cell_type": "code",
   "execution_count": null,
   "metadata": {},
   "outputs": [],
   "source": [
    "import requests\n",
    "import re\n",
    "import csv\n",
    "website_url= requests.get('https://en.wikipedia.org/wiki/List_of_United_States_cities_by_population').text\n",
    "\n",
    "from bs4 import BeautifulSoup\n",
    "soup = BeautifulSoup(website_url,'lxml')\n",
    "    \n",
    "print(soup.prettify())"
   ]
  },
  {
   "cell_type": "code",
   "execution_count": null,
   "metadata": {},
   "outputs": [],
   "source": [
    "my_table = soup.find('table', class_='wikitable sortable')\n",
    "my_table"
   ]
  },
  {
   "cell_type": "code",
   "execution_count": null,
   "metadata": {},
   "outputs": [],
   "source": [
    "links = []\n",
    " \n",
    "for row in my_table.find_all('tr')[1:101]:\n",
    "        for td in row.find_all('td')[1:2]:\n",
    "            for link in td.find_all('a', attrs={'href': re.compile(\"^/wiki\")}):\n",
    "                links.append(link.get('href'))\n",
    "                \n",
    "print(links)"
   ]
  },
  {
   "cell_type": "code",
   "execution_count": null,
   "metadata": {},
   "outputs": [],
   "source": [
    "csv_file = open('us_topos.csv','w')\n",
    "csv_writer = csv.writer(csv_file)\n",
    "csv_writer.writerow(['Rank','City','State','2018 estimate','2010 census','Timezone'])\n",
    "\n",
    "index = 0\n",
    "for tr in my_table.findAll('tr')[1:101]:\n",
    "    stack = []\n",
    "    for td in tr.findAll('td')[0:5]:\n",
    "        stack.append(td.text.strip())\n",
    "        \n",
    "        url=\"https://en.wikipedia.org\"+links[index]\n",
    "        city_url = requests.get(url).text\n",
    "        soup = BeautifulSoup(city_url,'lxml')\n",
    "        timezone = soup.find('a', href=True, text='Time zone').next_element.next_element.text.strip()\n",
    "    stack.append(timezone)        \n",
    "    index = index + 1\n",
    "    csv_writer.writerow(stack)\n",
    "csv_file.close()"
   ]
  }
 ],
 "metadata": {
  "kernelspec": {
   "display_name": "Python 3",
   "language": "python",
   "name": "python3"
  },
  "language_info": {
   "codemirror_mode": {
    "name": "ipython",
    "version": 3
   },
   "file_extension": ".py",
   "mimetype": "text/x-python",
   "name": "python",
   "nbconvert_exporter": "python",
   "pygments_lexer": "ipython3",
   "version": "3.7.1"
  }
 },
 "nbformat": 4,
 "nbformat_minor": 2
}
